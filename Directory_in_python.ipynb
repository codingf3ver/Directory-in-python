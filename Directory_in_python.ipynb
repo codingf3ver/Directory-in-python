{
  "nbformat": 4,
  "nbformat_minor": 0,
  "metadata": {
    "colab": {
      "name": "Directory in python.ipynb",
      "provenance": [],
      "authorship_tag": "ABX9TyP7UDApUgx3O6NTKjd4Rv0u"
    },
    "kernelspec": {
      "name": "python3",
      "display_name": "Python 3"
    },
    "language_info": {
      "name": "python"
    }
  },
  "cells": [
    {
      "cell_type": "code",
      "metadata": {
        "id": "aQLL73AUOzNf"
      },
      "source": [
        "import os\n",
        "import time\n",
        "import re\n",
        "import shutil"
      ],
      "execution_count": 1,
      "outputs": []
    },
    {
      "cell_type": "code",
      "metadata": {
        "colab": {
          "base_uri": "https://localhost:8080/",
          "height": 37
        },
        "id": "vVgLsjdBRjcf",
        "outputId": "eb22c9b6-995e-48c5-a28a-68c01b06901c"
      },
      "source": [
        "current_dir = os.getcwd()\n",
        "current_dir"
      ],
      "execution_count": 2,
      "outputs": [
        {
          "output_type": "execute_result",
          "data": {
            "application/vnd.google.colaboratory.intrinsic+json": {
              "type": "string"
            },
            "text/plain": [
              "'/content'"
            ]
          },
          "metadata": {},
          "execution_count": 2
        }
      ]
    },
    {
      "cell_type": "code",
      "metadata": {
        "colab": {
          "base_uri": "https://localhost:8080/"
        },
        "id": "7ucFSNYERlvM",
        "outputId": "ef5b0306-0402-413f-f792-6f7e3c6d2265"
      },
      "source": [
        "# creating 1 lakh directory\n",
        "\n",
        "start = time.time()\n",
        "for i in range(100000):\n",
        "  os.mkdir(f'{current_dir}/newdir%d'%i)\n",
        "end = time.time()\n",
        "print(f'Directories creation time : {end - start}')"
      ],
      "execution_count": 3,
      "outputs": [
        {
          "output_type": "stream",
          "name": "stdout",
          "text": [
            "Directories creation time : 121.66366386413574\n"
          ]
        }
      ]
    },
    {
      "cell_type": "code",
      "metadata": {
        "colab": {
          "base_uri": "https://localhost:8080/"
        },
        "id": "0cLiqTkNTLyS",
        "outputId": "6e71a155-6b4e-45ac-f235-e24d79edd302"
      },
      "source": [
        "# Creating one lakh files\n",
        "start = time.time()\n",
        "for i in range(1,100000):\n",
        "  with open(f'newfile{i}.txt','w') as file:\n",
        "    file.write(f'this is new file content {i}')\n",
        "end = time.time()\n",
        "print(f'Files creation time : {end - start}')"
      ],
      "execution_count": 4,
      "outputs": [
        {
          "output_type": "stream",
          "name": "stdout",
          "text": [
            "Files creation time : 4.545668601989746\n"
          ]
        }
      ]
    },
    {
      "cell_type": "code",
      "metadata": {
        "colab": {
          "base_uri": "https://localhost:8080/"
        },
        "id": "8jZ7hxqjYkQT",
        "outputId": "83d843ab-b47c-412b-df60-84cbd99c6ae0"
      },
      "source": [
        "#deleting all the directories which starts with 'newdir'\n",
        "start = time.time()\n",
        "for dir in os.listdir():\n",
        "  if dir.startswith('newdir'):\n",
        "    'This will only work if the directory is empty'\n",
        "    os.rmdir(dir)               \n",
        "end = time.time()\n",
        "print(f'Directories deletion time : {end - start}')"
      ],
      "execution_count": 5,
      "outputs": [
        {
          "output_type": "stream",
          "name": "stdout",
          "text": [
            "Directories deletion time : 3.109386920928955\n"
          ]
        }
      ]
    },
    {
      "cell_type": "code",
      "metadata": {
        "colab": {
          "base_uri": "https://localhost:8080/"
        },
        "id": "L0WviBbKcV16",
        "outputId": "452098f2-95bd-4c64-d20f-d48237a5f33a"
      },
      "source": [
        "# deleting all the files which ends with '.txt'\n",
        "start = time.time()\n",
        "for file in os.listdir():\n",
        "  if file.endswith('.txt'):\n",
        "    os.remove(file)\n",
        "end = time.time()\n",
        "print(f'Files deletion time : {end - start}')"
      ],
      "execution_count": 6,
      "outputs": [
        {
          "output_type": "stream",
          "name": "stdout",
          "text": [
            "Files deletion time : 3.1831955909729004\n"
          ]
        }
      ]
    },
    {
      "cell_type": "code",
      "metadata": {
        "colab": {
          "base_uri": "https://localhost:8080/"
        },
        "id": "k1IYTs-rp_va",
        "outputId": "bd7ba15d-c59f-47ab-e98c-33af1f1a2089"
      },
      "source": [
        "!tree"
      ],
      "execution_count": 7,
      "outputs": [
        {
          "output_type": "stream",
          "name": "stdout",
          "text": [
            ".\n",
            "└── sample_data\n",
            "    ├── anscombe.json\n",
            "    ├── california_housing_test.csv\n",
            "    ├── california_housing_train.csv\n",
            "    ├── mnist_test.csv\n",
            "    ├── mnist_train_small.csv\n",
            "    └── README.md\n",
            "\n",
            "1 directory, 6 files\n"
          ]
        }
      ]
    },
    {
      "cell_type": "code",
      "metadata": {
        "id": "1O7e-oOgqWYM"
      },
      "source": [
        "# creating 10 directories\n",
        "\n",
        "for i in range(10):\n",
        "  os.mkdir(f'{current_dir}/newdir%d'%i)\n"
      ],
      "execution_count": 8,
      "outputs": []
    },
    {
      "cell_type": "code",
      "metadata": {
        "colab": {
          "base_uri": "https://localhost:8080/"
        },
        "id": "hmj6di8D124U",
        "outputId": "e5c443e9-dc63-435d-f189-411b8ebdca48"
      },
      "source": [
        "!tree"
      ],
      "execution_count": 9,
      "outputs": [
        {
          "output_type": "stream",
          "name": "stdout",
          "text": [
            ".\n",
            "├── newdir0\n",
            "├── newdir1\n",
            "├── newdir2\n",
            "├── newdir3\n",
            "├── newdir4\n",
            "├── newdir5\n",
            "├── newdir6\n",
            "├── newdir7\n",
            "├── newdir8\n",
            "├── newdir9\n",
            "└── sample_data\n",
            "    ├── anscombe.json\n",
            "    ├── california_housing_test.csv\n",
            "    ├── california_housing_train.csv\n",
            "    ├── mnist_test.csv\n",
            "    ├── mnist_train_small.csv\n",
            "    └── README.md\n",
            "\n",
            "11 directories, 6 files\n"
          ]
        }
      ]
    },
    {
      "cell_type": "code",
      "metadata": {
        "id": "5W853P451_vV"
      },
      "source": [
        "#Changing directory \n",
        "os.chdir('newdir0')"
      ],
      "execution_count": 10,
      "outputs": []
    },
    {
      "cell_type": "code",
      "metadata": {
        "colab": {
          "base_uri": "https://localhost:8080/",
          "height": 37
        },
        "id": "SahduvuM2KhQ",
        "outputId": "5fe3d117-a8b8-49c0-d8f2-3d8d4f66ece4"
      },
      "source": [
        "new_dir = os.getcwd()\n",
        "new_dir"
      ],
      "execution_count": 11,
      "outputs": [
        {
          "output_type": "execute_result",
          "data": {
            "application/vnd.google.colaboratory.intrinsic+json": {
              "type": "string"
            },
            "text/plain": [
              "'/content/newdir0'"
            ]
          },
          "metadata": {},
          "execution_count": 11
        }
      ]
    },
    {
      "cell_type": "code",
      "metadata": {
        "id": "mqKZy7zB2fWD"
      },
      "source": [
        "# Creating new files in new directory\n",
        "for i in range(1,3):\n",
        "  with open(f'newfile{i}.txt','w') as file:\n",
        "    file.write(f'this is new file content {i}')"
      ],
      "execution_count": 12,
      "outputs": []
    },
    {
      "cell_type": "code",
      "metadata": {
        "colab": {
          "base_uri": "https://localhost:8080/"
        },
        "id": "6aE9uNt63FmN",
        "outputId": "76e2f42f-9561-42c0-b7cb-501e6604b882"
      },
      "source": [
        "#listing files and directories in current directory\n",
        "!tree"
      ],
      "execution_count": 13,
      "outputs": [
        {
          "output_type": "stream",
          "name": "stdout",
          "text": [
            ".\n",
            "├── newfile1.txt\n",
            "└── newfile2.txt\n",
            "\n",
            "0 directories, 2 files\n"
          ]
        }
      ]
    },
    {
      "cell_type": "code",
      "metadata": {
        "colab": {
          "base_uri": "https://localhost:8080/"
        },
        "id": "wsJXk7fO3PLN",
        "outputId": "0ad715f4-c28b-4bf5-beff-3701d1917c75"
      },
      "source": [
        "#Changing directory to the root one\n",
        "os.chdir(current_dir)\n",
        "!tree"
      ],
      "execution_count": 14,
      "outputs": [
        {
          "output_type": "stream",
          "name": "stdout",
          "text": [
            ".\n",
            "├── newdir0\n",
            "│   ├── newfile1.txt\n",
            "│   └── newfile2.txt\n",
            "├── newdir1\n",
            "├── newdir2\n",
            "├── newdir3\n",
            "├── newdir4\n",
            "├── newdir5\n",
            "├── newdir6\n",
            "├── newdir7\n",
            "├── newdir8\n",
            "├── newdir9\n",
            "└── sample_data\n",
            "    ├── anscombe.json\n",
            "    ├── california_housing_test.csv\n",
            "    ├── california_housing_train.csv\n",
            "    ├── mnist_test.csv\n",
            "    ├── mnist_train_small.csv\n",
            "    └── README.md\n",
            "\n",
            "11 directories, 8 files\n"
          ]
        }
      ]
    },
    {
      "cell_type": "code",
      "metadata": {
        "colab": {
          "base_uri": "https://localhost:8080/"
        },
        "id": "QBq6mzYc37gx",
        "outputId": "d606c24f-2f60-41a9-bf68-eae2e35bcfb4"
      },
      "source": [
        "# Creating directories with number name only\n",
        "for i in range(10):\n",
        "  os.mkdir(f'{current_dir}/%d'%i)\n",
        "!tree\n"
      ],
      "execution_count": 15,
      "outputs": [
        {
          "output_type": "stream",
          "name": "stdout",
          "text": [
            ".\n",
            "├── 0\n",
            "├── 1\n",
            "├── 2\n",
            "├── 3\n",
            "├── 4\n",
            "├── 5\n",
            "├── 6\n",
            "├── 7\n",
            "├── 8\n",
            "├── 9\n",
            "├── newdir0\n",
            "│   ├── newfile1.txt\n",
            "│   └── newfile2.txt\n",
            "├── newdir1\n",
            "├── newdir2\n",
            "├── newdir3\n",
            "├── newdir4\n",
            "├── newdir5\n",
            "├── newdir6\n",
            "├── newdir7\n",
            "├── newdir8\n",
            "├── newdir9\n",
            "└── sample_data\n",
            "    ├── anscombe.json\n",
            "    ├── california_housing_test.csv\n",
            "    ├── california_housing_train.csv\n",
            "    ├── mnist_test.csv\n",
            "    ├── mnist_train_small.csv\n",
            "    └── README.md\n",
            "\n",
            "21 directories, 8 files\n"
          ]
        }
      ]
    },
    {
      "cell_type": "code",
      "metadata": {
        "colab": {
          "base_uri": "https://localhost:8080/"
        },
        "id": "1DgLKLY5qsx0",
        "outputId": "c99c9eae-5464-4456-d879-5034302e83f0"
      },
      "source": [
        "# removing directory which starts with a number\n",
        "import re\n",
        "for dir in os.listdir():\n",
        "  num = re.findall('^\\d',dir)\n",
        "  if num:\n",
        "    if dir.startswith(str(num[0])):\n",
        "      'This will only work if the directory is empty'\n",
        "      os.rmdir(dir)\n",
        "!tree  "
      ],
      "execution_count": 16,
      "outputs": [
        {
          "output_type": "stream",
          "name": "stdout",
          "text": [
            ".\n",
            "├── newdir0\n",
            "│   ├── newfile1.txt\n",
            "│   └── newfile2.txt\n",
            "├── newdir1\n",
            "├── newdir2\n",
            "├── newdir3\n",
            "├── newdir4\n",
            "├── newdir5\n",
            "├── newdir6\n",
            "├── newdir7\n",
            "├── newdir8\n",
            "├── newdir9\n",
            "└── sample_data\n",
            "    ├── anscombe.json\n",
            "    ├── california_housing_test.csv\n",
            "    ├── california_housing_train.csv\n",
            "    ├── mnist_test.csv\n",
            "    ├── mnist_train_small.csv\n",
            "    └── README.md\n",
            "\n",
            "11 directories, 8 files\n"
          ]
        }
      ]
    },
    {
      "cell_type": "code",
      "metadata": {
        "colab": {
          "base_uri": "https://localhost:8080/"
        },
        "id": "IZkfLEBBuuII",
        "outputId": "cd1391e0-ebe3-4844-ba97-b5a04c5cf52a"
      },
      "source": [
        "# This will produce an error because some diretories are not empty\n",
        "for dir in os.listdir():\n",
        "  try:\n",
        "    if dir.startswith('newdir'):\n",
        "      'This will only work if the directory is empty'\n",
        "      os.rmdir(dir) \n",
        "  except:\n",
        "    print('Not deleted because some directories are not empty')             "
      ],
      "execution_count": 17,
      "outputs": [
        {
          "output_type": "stream",
          "name": "stdout",
          "text": [
            "Not deleted because some directories are not empty\n"
          ]
        }
      ]
    },
    {
      "cell_type": "code",
      "metadata": {
        "colab": {
          "base_uri": "https://localhost:8080/"
        },
        "id": "5pp9eIvtvGYY",
        "outputId": "3651e435-5f4c-47a4-c31f-4ce4c5c77187"
      },
      "source": [
        "# This will remove work all directories and its file which starts with 'newdir'\n",
        "\n",
        "for dir in os.listdir():\n",
        "  if dir.startswith('newdir'):\n",
        "    'This will remove work all directories and its file is which starts with newdir'\n",
        "    shutil.rmtree(dir)               \n",
        "!tree"
      ],
      "execution_count": 18,
      "outputs": [
        {
          "output_type": "stream",
          "name": "stdout",
          "text": [
            ".\n",
            "└── sample_data\n",
            "    ├── anscombe.json\n",
            "    ├── california_housing_test.csv\n",
            "    ├── california_housing_train.csv\n",
            "    ├── mnist_test.csv\n",
            "    ├── mnist_train_small.csv\n",
            "    └── README.md\n",
            "\n",
            "1 directory, 6 files\n"
          ]
        }
      ]
    },
    {
      "cell_type": "code",
      "metadata": {
        "id": "uAgL2kMww3pE"
      },
      "source": [
        ""
      ],
      "execution_count": 18,
      "outputs": []
    }
  ]
}